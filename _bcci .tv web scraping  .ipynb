{
 "cells": [
  {
   "cell_type": "code",
   "execution_count": 1,
   "id": "a8ee5147",
   "metadata": {},
   "outputs": [
    {
     "name": "stdout",
     "output_type": "stream",
     "text": [
      "Requirement already satisfied: selenium in c:\\users\\hp\\anaconda3\\lib\\site-packages (4.22.0)\n",
      "Requirement already satisfied: urllib3<3,>=1.26 in c:\\users\\hp\\anaconda3\\lib\\site-packages (from urllib3[socks]<3,>=1.26->selenium) (2.0.7)\n",
      "Requirement already satisfied: trio~=0.17 in c:\\users\\hp\\anaconda3\\lib\\site-packages (from selenium) (0.25.1)\n",
      "Requirement already satisfied: trio-websocket~=0.9 in c:\\users\\hp\\anaconda3\\lib\\site-packages (from selenium) (0.11.1)\n",
      "Requirement already satisfied: certifi>=2021.10.8 in c:\\users\\hp\\anaconda3\\lib\\site-packages (from selenium) (2024.2.2)\n",
      "Requirement already satisfied: typing_extensions>=4.9.0 in c:\\users\\hp\\anaconda3\\lib\\site-packages (from selenium) (4.9.0)\n",
      "Requirement already satisfied: websocket-client>=1.8.0 in c:\\users\\hp\\anaconda3\\lib\\site-packages (from selenium) (1.8.0)\n",
      "Requirement already satisfied: attrs>=23.2.0 in c:\\users\\hp\\anaconda3\\lib\\site-packages (from trio~=0.17->selenium) (23.2.0)\n",
      "Requirement already satisfied: sortedcontainers in c:\\users\\hp\\anaconda3\\lib\\site-packages (from trio~=0.17->selenium) (2.4.0)\n",
      "Requirement already satisfied: idna in c:\\users\\hp\\anaconda3\\lib\\site-packages (from trio~=0.17->selenium) (3.4)\n",
      "Requirement already satisfied: outcome in c:\\users\\hp\\anaconda3\\lib\\site-packages (from trio~=0.17->selenium) (1.3.0.post0)\n",
      "Requirement already satisfied: sniffio>=1.3.0 in c:\\users\\hp\\anaconda3\\lib\\site-packages (from trio~=0.17->selenium) (1.3.0)\n",
      "Requirement already satisfied: cffi>=1.14 in c:\\users\\hp\\anaconda3\\lib\\site-packages (from trio~=0.17->selenium) (1.16.0)\n",
      "Requirement already satisfied: wsproto>=0.14 in c:\\users\\hp\\anaconda3\\lib\\site-packages (from trio-websocket~=0.9->selenium) (1.2.0)\n",
      "Requirement already satisfied: pysocks!=1.5.7,<2.0,>=1.5.6 in c:\\users\\hp\\anaconda3\\lib\\site-packages (from urllib3[socks]<3,>=1.26->selenium) (1.7.1)\n",
      "Requirement already satisfied: pycparser in c:\\users\\hp\\anaconda3\\lib\\site-packages (from cffi>=1.14->trio~=0.17->selenium) (2.21)\n",
      "Requirement already satisfied: h11<1,>=0.9.0 in c:\\users\\hp\\anaconda3\\lib\\site-packages (from wsproto>=0.14->trio-websocket~=0.9->selenium) (0.14.0)\n"
     ]
    }
   ],
   "source": [
    "! pip install selenium"
   ]
  },
  {
   "cell_type": "code",
   "execution_count": 2,
   "id": "306387aa",
   "metadata": {},
   "outputs": [],
   "source": [
    "from selenium.webdriver.common.by import By\n",
    "from selenium import webdriver\n",
    "import time\n",
    "import pandas as pd\n",
    "import warnings\n",
    "warnings.filterwarnings ('ignore')"
   ]
  },
  {
   "cell_type": "code",
   "execution_count": 3,
   "id": "592eca17",
   "metadata": {},
   "outputs": [],
   "source": [
    "#  Q 1 "
   ]
  },
  {
   "cell_type": "code",
   "execution_count": 4,
   "id": "0e3fe16a",
   "metadata": {},
   "outputs": [],
   "source": [
    "driver =  webdriver.Chrome()\n",
    "driver.get('https://www.bcci.tv/')\n",
    "\n",
    "Series =[]\n",
    "Place =[]\n",
    "Date =[]\n",
    "Time=[]"
   ]
  },
  {
   "cell_type": "code",
   "execution_count": 10,
   "id": "9037907d",
   "metadata": {},
   "outputs": [],
   "source": [
    "series_tag = driver.find_elements(By.XPATH,'//h5[@class=\"match-tournament-name ng-binding\"]')\n",
    "for i in series_tag:\n",
    "    Series.append(i.text)\n",
    "\n",
    "place_tag = driver.find_elements(By.XPATH,'//span[@class=\"ng-binding\"]')\n",
    "for i in place_tag:\n",
    "    Place.append(i.text)\n",
    "    \n",
    "date_tag = driver.find_elements(By.XPATH,'//div[@class=\"match-dates ng-binding\"]')\n",
    "for i in date_tag:\n",
    "    Date.append(i.text)\n",
    "    \n",
    "time_tag = driver.find_elements(By.XPATH,'//div[@class=\"match-time no-margin ng-binding\"]')\n",
    "for i in time_tag:\n",
    "    Time.append(i.text)"
   ]
  },
  {
   "cell_type": "code",
   "execution_count": 11,
   "id": "7a728a5f",
   "metadata": {},
   "outputs": [
    {
     "data": {
      "text/plain": [
       "(10, 5, 15, 5)"
      ]
     },
     "execution_count": 11,
     "metadata": {},
     "output_type": "execute_result"
    }
   ],
   "source": [
    "len(Series), len(Place), len(Date), len(Time)"
   ]
  },
  {
   "cell_type": "code",
   "execution_count": null,
   "id": "cedc3c2b",
   "metadata": {},
   "outputs": [],
   "source": []
  },
  {
   "cell_type": "code",
   "execution_count": null,
   "id": "d1e73fc4",
   "metadata": {},
   "outputs": [],
   "source": [
    "# Q 2"
   ]
  },
  {
   "cell_type": "code",
   "execution_count": 12,
   "id": "6908bbd9",
   "metadata": {},
   "outputs": [],
   "source": [
    "driver= webdriver.Chrome()\n",
    "driver.get('https://statisticstimes.com/')\n",
    "\n",
    "Rank =[]\n",
    "State =[]\n",
    "GSDP_2023=[]\n",
    "GSDP_2022=[]\n",
    "Share=[] \n",
    "GDP_Billion=[]"
   ]
  },
  {
   "cell_type": "code",
   "execution_count": 17,
   "id": "a0dcb5f3",
   "metadata": {},
   "outputs": [],
   "source": [
    "limit = 33\n",
    "rank_tag =  driver.find_elements(By.XPATH,'//td[@class=\"data1\"]')\n",
    "for i in rank_tag[:limit]:\n",
    "    Rank.append(i.text)\n",
    "    \n",
    "states =  driver.find_elements(By.XPATH,'//td[@class=\"name\"]')\n",
    "for i in states[:limit]:\n",
    "    State.append(i.text)\n",
    "    \n",
    "GSDP_23 =  driver.find_elements(By.XPATH,'//td[@class=\"data\"]')\n",
    "for i in GSDP_23[:limit]:\n",
    "    GSDP_2023.append(i.text)\n",
    "    \n",
    "GSDP_22 =  driver.find_elements(By.XPATH,'//td[@class=\"data\"]')\n",
    "for i in GSDP_22[:limit]:\n",
    "    GSDP_2022.append(i.text)\n",
    "    \n"
   ]
  },
  {
   "cell_type": "code",
   "execution_count": 18,
   "id": "c99e342a",
   "metadata": {},
   "outputs": [
    {
     "name": "stdout",
     "output_type": "stream",
     "text": [
      "66 33 33 33\n"
     ]
    }
   ],
   "source": [
    "print(len(Rank), len(State), len(GSDP_2023), len(GSDP_2022))"
   ]
  },
  {
   "cell_type": "code",
   "execution_count": null,
   "id": "41517cfb",
   "metadata": {},
   "outputs": [],
   "source": []
  },
  {
   "cell_type": "code",
   "execution_count": 20,
   "id": "a15208b4",
   "metadata": {},
   "outputs": [],
   "source": [
    "# Q 3"
   ]
  },
  {
   "cell_type": "code",
   "execution_count": 19,
   "id": "5fe919d4",
   "metadata": {},
   "outputs": [],
   "source": [
    "driver= webdriver.Chrome()\n",
    "driver.get('https://github.com/')\n",
    "\n",
    "title = []\n",
    "description = []\n",
    "Contributors_count = []\n",
    "Language = []"
   ]
  },
  {
   "cell_type": "code",
   "execution_count": 25,
   "id": "ef10d06e",
   "metadata": {},
   "outputs": [],
   "source": [
    "title_name= driver.find_elements(By.XPATH,'//span[@class=\"Text-sc-17v1xeu-0 qaOIC search-match\"]')\n",
    "for i in title_name:\n",
    "    tn=i.text\n",
    "    title.append(tn)\n",
    "\n",
    "description_tag=driver.find_elements(By.XPATH,'//div[@class=\"Box-sc-g0xbh4-0 LjnbQ\"]')\n",
    "for i in description_tag:\n",
    "    description.append(i.text)\n",
    "    \n",
    "count=driver.find_elements(By.XPATH,'//a[@class=\"Link__StyledLink-sc-14289xe-0 kcrdPt\"]')\n",
    "for i in count:\n",
    "    Contributors_count.append(i.text)\n",
    "    \n",
    "languages=driver.find_elements(By.XPATH,'//li[@class=\"Box-sc-g0xbh4-0 rzFjy\"]/span')\n",
    "for i in languages:\n",
    "    Language.append(i.text)\n",
    "    "
   ]
  },
  {
   "cell_type": "code",
   "execution_count": 26,
   "id": "3274f559",
   "metadata": {},
   "outputs": [
    {
     "name": "stdout",
     "output_type": "stream",
     "text": [
      "['github/explore', 'valinet/ExplorerPatcher', 'compiler-explorer/compiler-', 'kalcaddle/KodExplorer', 'iquidus/explorer', 'ethan-funny/explore-python', 'electron/electron-api-demos', 'sbis04/explore', 'arv/ExplorerCanvas', 'blockcypher/explorer', 'github/explore', 'valinet/ExplorerPatcher', 'compiler-explorer/compiler-', 'kalcaddle/KodExplorer', 'iquidus/explorer', 'ethan-funny/explore-python', 'electron/electron-api-demos', 'sbis04/explore', 'arv/ExplorerCanvas', 'blockcypher/explorer']\n"
     ]
    },
    {
     "data": {
      "text/plain": [
       "(20, 10, 10, 20)"
      ]
     },
     "execution_count": 26,
     "metadata": {},
     "output_type": "execute_result"
    }
   ],
   "source": [
    "print(title)\n",
    "len(title), len(description), len(Contributors_count), len(Language)"
   ]
  },
  {
   "cell_type": "code",
   "execution_count": null,
   "id": "0bbffe89",
   "metadata": {},
   "outputs": [],
   "source": []
  },
  {
   "cell_type": "code",
   "execution_count": null,
   "id": "67e23042",
   "metadata": {},
   "outputs": [],
   "source": [
    "# Q 4 "
   ]
  },
  {
   "cell_type": "code",
   "execution_count": 27,
   "id": "3ef96ff2",
   "metadata": {},
   "outputs": [],
   "source": [
    "driver= webdriver.Chrome()\n",
    "driver.get('https://www.imdb.com/list/ls056092300/')\n",
    "\n",
    "Name =[]\n",
    "Year_span=[] \n",
    "Genre =[]\n",
    "Run_time=[] \n",
    "Ratings =[]\n",
    "Votes=[]"
   ]
  },
  {
   "cell_type": "code",
   "execution_count": 30,
   "id": "4397d747",
   "metadata": {},
   "outputs": [],
   "source": [
    "nam= driver.find_elements(By.XPATH,'//h3[@class=\"ipc-title__text\"]')\n",
    "for i in nam:\n",
    "    Name.append(i.text)\n",
    "\n",
    "year= driver.find_elements(By.XPATH,'//span[@class=\"sc-b189961a-8 hCbzGp dli-title-metadata-item\"]')[:75]\n",
    "for i in year:\n",
    "    Year_span.append(i.text)\n",
    "    \n",
    "timing = driver.find_elements(By.XPATH,'//span[@class=\"sc-b189961a-8 hCbzGp dli-title-metadata-item\"]')[:75]\n",
    "for a  in timing:\n",
    "    Run_time.append(a.text)\n",
    "    \n",
    "Rat = driver.find_elements(By.XPATH,'//span[@class=\"ipc-rating-star--rating\"]')\n",
    "for a in Rat:\n",
    "    Ratings.append(a.text)\n",
    "    \n",
    "vot= driver.find_elements(By.XPATH,'//span[@class=\"ipc-rating-star--voteCount\"]')\n",
    "for i in vot:\n",
    "    Votes.append(i.text)"
   ]
  },
  {
   "cell_type": "code",
   "execution_count": 31,
   "id": "070878b5",
   "metadata": {},
   "outputs": [
    {
     "data": {
      "text/plain": [
       "(56, 65, 65, 25, 25)"
      ]
     },
     "execution_count": 31,
     "metadata": {},
     "output_type": "execute_result"
    }
   ],
   "source": [
    "len(Name), len(Year_span), len(Run_time), len(Ratings), len(Votes)"
   ]
  },
  {
   "cell_type": "code",
   "execution_count": null,
   "id": "32848d5c",
   "metadata": {},
   "outputs": [],
   "source": []
  }
 ],
 "metadata": {
  "kernelspec": {
   "display_name": "Python 3 (ipykernel)",
   "language": "python",
   "name": "python3"
  },
  "language_info": {
   "codemirror_mode": {
    "name": "ipython",
    "version": 3
   },
   "file_extension": ".py",
   "mimetype": "text/x-python",
   "name": "python",
   "nbconvert_exporter": "python",
   "pygments_lexer": "ipython3",
   "version": "3.11.7"
  }
 },
 "nbformat": 4,
 "nbformat_minor": 5
}
