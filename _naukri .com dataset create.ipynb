{
 "cells": [
  {
   "cell_type": "code",
   "execution_count": 1,
   "id": "4e500ce0",
   "metadata": {},
   "outputs": [
    {
     "name": "stdout",
     "output_type": "stream",
     "text": [
      "Requirement already satisfied: selenium in c:\\users\\hp\\anaconda3\\lib\\site-packages (4.22.0)\n",
      "Requirement already satisfied: urllib3<3,>=1.26 in c:\\users\\hp\\anaconda3\\lib\\site-packages (from urllib3[socks]<3,>=1.26->selenium) (2.0.7)\n",
      "Requirement already satisfied: trio~=0.17 in c:\\users\\hp\\anaconda3\\lib\\site-packages (from selenium) (0.25.1)\n",
      "Requirement already satisfied: trio-websocket~=0.9 in c:\\users\\hp\\anaconda3\\lib\\site-packages (from selenium) (0.11.1)\n",
      "Requirement already satisfied: certifi>=2021.10.8 in c:\\users\\hp\\anaconda3\\lib\\site-packages (from selenium) (2024.2.2)\n",
      "Requirement already satisfied: typing_extensions>=4.9.0 in c:\\users\\hp\\anaconda3\\lib\\site-packages (from selenium) (4.9.0)\n",
      "Requirement already satisfied: websocket-client>=1.8.0 in c:\\users\\hp\\anaconda3\\lib\\site-packages (from selenium) (1.8.0)\n",
      "Requirement already satisfied: attrs>=23.2.0 in c:\\users\\hp\\anaconda3\\lib\\site-packages (from trio~=0.17->selenium) (23.2.0)\n",
      "Requirement already satisfied: sortedcontainers in c:\\users\\hp\\anaconda3\\lib\\site-packages (from trio~=0.17->selenium) (2.4.0)\n",
      "Requirement already satisfied: idna in c:\\users\\hp\\anaconda3\\lib\\site-packages (from trio~=0.17->selenium) (3.4)\n",
      "Requirement already satisfied: outcome in c:\\users\\hp\\anaconda3\\lib\\site-packages (from trio~=0.17->selenium) (1.3.0.post0)\n",
      "Requirement already satisfied: sniffio>=1.3.0 in c:\\users\\hp\\anaconda3\\lib\\site-packages (from trio~=0.17->selenium) (1.3.0)\n",
      "Requirement already satisfied: cffi>=1.14 in c:\\users\\hp\\anaconda3\\lib\\site-packages (from trio~=0.17->selenium) (1.16.0)\n",
      "Requirement already satisfied: wsproto>=0.14 in c:\\users\\hp\\anaconda3\\lib\\site-packages (from trio-websocket~=0.9->selenium) (1.2.0)\n",
      "Requirement already satisfied: pysocks!=1.5.7,<2.0,>=1.5.6 in c:\\users\\hp\\anaconda3\\lib\\site-packages (from urllib3[socks]<3,>=1.26->selenium) (1.7.1)\n",
      "Requirement already satisfied: pycparser in c:\\users\\hp\\anaconda3\\lib\\site-packages (from cffi>=1.14->trio~=0.17->selenium) (2.21)\n",
      "Requirement already satisfied: h11<1,>=0.9.0 in c:\\users\\hp\\anaconda3\\lib\\site-packages (from wsproto>=0.14->trio-websocket~=0.9->selenium) (0.14.0)\n"
     ]
    }
   ],
   "source": [
    "! pip install selenium "
   ]
  },
  {
   "cell_type": "code",
   "execution_count": 2,
   "id": "53662756",
   "metadata": {},
   "outputs": [],
   "source": [
    "from selenium import webdriver\n",
    "from selenium.webdriver.common.by import By\n",
    "import time \n",
    "import pandas as pd\n",
    "import warnings\n",
    "warnings.filterwarnings ('ignore')"
   ]
  },
  {
   "cell_type": "code",
   "execution_count": null,
   "id": "a9e1178a",
   "metadata": {},
   "outputs": [],
   "source": []
  },
  {
   "cell_type": "code",
   "execution_count": 6,
   "id": "885ee757",
   "metadata": {},
   "outputs": [],
   "source": [
    "driver = webdriver.Chrome()\n",
    "driver.get(\"https://www.naukri.com/\")"
   ]
  },
  {
   "cell_type": "code",
   "execution_count": 7,
   "id": "5ec36e17",
   "metadata": {
    "scrolled": true
   },
   "outputs": [],
   "source": [
    "disignation= driver.find_element(By.CLASS_NAME,\"suggestor-input \")\n",
    "disignation.send_keys(\"Data science\")\n"
   ]
  },
  {
   "cell_type": "code",
   "execution_count": 8,
   "id": "228a8990",
   "metadata": {},
   "outputs": [],
   "source": [
    "#  2nd method\n",
    "# disignation= driver.find_element(By.XPATH,'/html/body/div[1]/div[7]/div/div/div[1]/div/div/div/div[1]/div/input')\n",
    "# disignation.send_keys(\"Data science\")\n"
   ]
  },
  {
   "cell_type": "code",
   "execution_count": 9,
   "id": "65559b97",
   "metadata": {},
   "outputs": [],
   "source": [
    "location = driver.find_element(By.XPATH,'/html/body/div[1]/div[7]/div/div/div[5]/div/div/div/div[1]/div/input')\n",
    "location.send_keys(\"bangalore\")\n"
   ]
  },
  {
   "cell_type": "code",
   "execution_count": 10,
   "id": "43b723d9",
   "metadata": {},
   "outputs": [],
   "source": [
    "search = driver.find_element(By.CLASS_NAME,'qsbSubmit')\n",
    "search.click()\n"
   ]
  },
  {
   "cell_type": "code",
   "execution_count": 12,
   "id": "89374db8",
   "metadata": {},
   "outputs": [],
   "source": [
    "job_title=[]\n",
    "job_location=[]\n",
    "company_name=[]\n",
    "experience_required=[]\n"
   ]
  },
  {
   "cell_type": "code",
   "execution_count": 13,
   "id": "3cfabb73",
   "metadata": {},
   "outputs": [],
   "source": [
    "title_tags=driver.find_elements(By.XPATH,'//div[@class=\"cust-job-tuple layout-wrapper lay-2 sjw__tuple \"]/div/a')\n",
    "for i in title_tags: \n",
    "    title= i.text\n",
    "    job_title.append(title)"
   ]
  },
  {
   "cell_type": "code",
   "execution_count": 14,
   "id": "35f78c2a",
   "metadata": {},
   "outputs": [
    {
     "data": {
      "text/plain": [
       "['Data Science Analytics Senior Analyst',\n",
       " 'Data Science Analytics Senior Analyst',\n",
       " 'Data Science Analytics Sr Analyst',\n",
       " 'Data Science Analyst (Senior)',\n",
       " 'Data Science FCC Analytics-Associate/Senior Associate/Manager',\n",
       " 'Data Science Manager',\n",
       " 'Analytics Data science and IOT Engineer',\n",
       " 'S&C Global Network - AI - CG&S - Consultant Data Science',\n",
       " 'S&C Global Network - AI - CG&S - Consultant Data Science',\n",
       " 'Data Science/Gen AI - Lead (AI and ML and Open AI and MS Azure)',\n",
       " 'Senior Manager, Data Science',\n",
       " 'Manager - Data Science (GenAI) / TMT Vertical',\n",
       " 'Manager - Data Science (Classical ML)',\n",
       " 'Manager - Data Science (Classical ML) / Travel & Hospitality',\n",
       " 'Data Science Engineer- GEN AI is required-PERM ROLE',\n",
       " 'S&C Global Network - AI - Resources - Manager Data Science',\n",
       " 'Data Science Consultant',\n",
       " 'Data Science Manager',\n",
       " 'Manager - Data Science']"
      ]
     },
     "execution_count": 14,
     "metadata": {},
     "output_type": "execute_result"
    }
   ],
   "source": [
    "job_title"
   ]
  },
  {
   "cell_type": "code",
   "execution_count": 29,
   "id": "9db3830a",
   "metadata": {},
   "outputs": [],
   "source": [
    "location_tags=driver.find_elements(By.XPATH,'//span[@class=\"locWdth\"]')\n",
    "for i in location_tags:\n",
    "    location= i.text\n",
    "    job_location.append(location)"
   ]
  },
  {
   "cell_type": "code",
   "execution_count": 30,
   "id": "afc451ef",
   "metadata": {},
   "outputs": [],
   "source": [
    "company_tags = driver.find_elements(By.XPATH,'//div[@class=\" row2\"]/span/a[1]')\n",
    "for i in company_tags:\n",
    "    company=i.text\n",
    "    company_name.append(company)"
   ]
  },
  {
   "cell_type": "code",
   "execution_count": 31,
   "id": "4cd503f9",
   "metadata": {},
   "outputs": [],
   "source": [
    "experience_tags = driver.find_elements(By.XPATH,'//span[@class=\"expwdth\"]')\n",
    "for i in experience_tags:\n",
    "    experience= i.text\n",
    "    experience_required.append(experience)"
   ]
  },
  {
   "cell_type": "code",
   "execution_count": 35,
   "id": "fd8b2097",
   "metadata": {},
   "outputs": [
    {
     "name": "stdout",
     "output_type": "stream",
     "text": [
      "20 20 20 20\n"
     ]
    }
   ],
   "source": [
    "print(len(job_title),len(job_location),len(company_name),len(experience_required))"
   ]
  },
  {
   "cell_type": "code",
   "execution_count": 36,
   "id": "530afbd3",
   "metadata": {},
   "outputs": [],
   "source": [
    "df=pd.DataFrame({\n",
    "    'title':job_title,\n",
    "    'location':job_location,\n",
    "    'company_name':company_name,\n",
    "    'experience':experience_required\n",
    "    \n",
    "})"
   ]
  },
  {
   "cell_type": "code",
   "execution_count": null,
   "id": "262ff7ff",
   "metadata": {},
   "outputs": [],
   "source": []
  },
  {
   "cell_type": "code",
   "execution_count": 42,
   "id": "e2b5a388",
   "metadata": {},
   "outputs": [],
   "source": [
    "job_titles.append('')\n",
    "experience_requireds.append('')"
   ]
  },
  {
   "cell_type": "code",
   "execution_count": 43,
   "id": "d7490437",
   "metadata": {},
   "outputs": [],
   "source": [
    "df=pd.DataFrame({\n",
    "    'title':job_titles,\n",
    "    'location':job_locations,\n",
    "    'company_name':company_names,\n",
    "    'experience':experience_requireds\n",
    "    \n",
    "})"
   ]
  },
  {
   "cell_type": "code",
   "execution_count": 44,
   "id": "acf6fc9e",
   "metadata": {},
   "outputs": [
    {
     "data": {
      "text/html": [
       "<div>\n",
       "<style scoped>\n",
       "    .dataframe tbody tr th:only-of-type {\n",
       "        vertical-align: middle;\n",
       "    }\n",
       "\n",
       "    .dataframe tbody tr th {\n",
       "        vertical-align: top;\n",
       "    }\n",
       "\n",
       "    .dataframe thead th {\n",
       "        text-align: right;\n",
       "    }\n",
       "</style>\n",
       "<table border=\"1\" class=\"dataframe\">\n",
       "  <thead>\n",
       "    <tr style=\"text-align: right;\">\n",
       "      <th></th>\n",
       "      <th>title</th>\n",
       "      <th>location</th>\n",
       "      <th>company_name</th>\n",
       "      <th>experience</th>\n",
       "    </tr>\n",
       "  </thead>\n",
       "  <tbody>\n",
       "    <tr>\n",
       "      <th>0</th>\n",
       "      <td>Data Scientist</td>\n",
       "      <td>Bengaluru</td>\n",
       "      <td>Bharatx</td>\n",
       "      <td>5-10 Yrs</td>\n",
       "    </tr>\n",
       "    <tr>\n",
       "      <th>1</th>\n",
       "      <td>Data Scientist III</td>\n",
       "      <td>Noida, Bengaluru</td>\n",
       "      <td>Ericsson</td>\n",
       "      <td>5-9 Yrs</td>\n",
       "    </tr>\n",
       "    <tr>\n",
       "      <th>2</th>\n",
       "      <td>Life science-Data Scientist</td>\n",
       "      <td>Bengaluru</td>\n",
       "      <td>Walmart</td>\n",
       "      <td>3-8 Yrs</td>\n",
       "    </tr>\n",
       "    <tr>\n",
       "      <th>3</th>\n",
       "      <td>Senior Data Analyst (L5)</td>\n",
       "      <td>Hybrid - Bengaluru</td>\n",
       "      <td>Recruise India Consulting</td>\n",
       "      <td>7-9 Yrs</td>\n",
       "    </tr>\n",
       "    <tr>\n",
       "      <th>4</th>\n",
       "      <td>Data Scientist - Digital Health</td>\n",
       "      <td>Bengaluru</td>\n",
       "      <td>Global Pharma Tek</td>\n",
       "      <td>2-7 Yrs</td>\n",
       "    </tr>\n",
       "    <tr>\n",
       "      <th>...</th>\n",
       "      <td>...</td>\n",
       "      <td>...</td>\n",
       "      <td>...</td>\n",
       "      <td>...</td>\n",
       "    </tr>\n",
       "    <tr>\n",
       "      <th>95</th>\n",
       "      <td>Data Science with Python</td>\n",
       "      <td>Kolkata, Mumbai, New Delhi, Hyderabad, Pune, C...</td>\n",
       "      <td>Response Informatics</td>\n",
       "      <td>5-12 Yrs</td>\n",
       "    </tr>\n",
       "    <tr>\n",
       "      <th>96</th>\n",
       "      <td>Data Science</td>\n",
       "      <td>Bengaluru</td>\n",
       "      <td>Coders Brain Pvt Ltd</td>\n",
       "      <td>3-5 Yrs</td>\n",
       "    </tr>\n",
       "    <tr>\n",
       "      <th>97</th>\n",
       "      <td>Data Science + Strong NLP + Cloud</td>\n",
       "      <td>Bengaluru</td>\n",
       "      <td>Techvaraha Solutions</td>\n",
       "      <td>2-6 Yrs</td>\n",
       "    </tr>\n",
       "    <tr>\n",
       "      <th>98</th>\n",
       "      <td>Brand Partner Specialist - Data &amp; AI</td>\n",
       "      <td>Kolkata, Mumbai, New Delhi, Hyderabad, Pune, C...</td>\n",
       "      <td>Response Informatics</td>\n",
       "      <td>4-7 Yrs</td>\n",
       "    </tr>\n",
       "    <tr>\n",
       "      <th>99</th>\n",
       "      <td></td>\n",
       "      <td>Bengaluru</td>\n",
       "      <td>IBM</td>\n",
       "      <td></td>\n",
       "    </tr>\n",
       "  </tbody>\n",
       "</table>\n",
       "<p>100 rows × 4 columns</p>\n",
       "</div>"
      ],
      "text/plain": [
       "                                   title  \\\n",
       "0                         Data Scientist   \n",
       "1                     Data Scientist III   \n",
       "2            Life science-Data Scientist   \n",
       "3               Senior Data Analyst (L5)   \n",
       "4        Data Scientist - Digital Health   \n",
       "..                                   ...   \n",
       "95              Data Science with Python   \n",
       "96                          Data Science   \n",
       "97     Data Science + Strong NLP + Cloud   \n",
       "98  Brand Partner Specialist - Data & AI   \n",
       "99                                         \n",
       "\n",
       "                                             location  \\\n",
       "0                                           Bengaluru   \n",
       "1                                    Noida, Bengaluru   \n",
       "2                                           Bengaluru   \n",
       "3                                  Hybrid - Bengaluru   \n",
       "4                                           Bengaluru   \n",
       "..                                                ...   \n",
       "95  Kolkata, Mumbai, New Delhi, Hyderabad, Pune, C...   \n",
       "96                                          Bengaluru   \n",
       "97                                          Bengaluru   \n",
       "98  Kolkata, Mumbai, New Delhi, Hyderabad, Pune, C...   \n",
       "99                                          Bengaluru   \n",
       "\n",
       "                 company_name experience  \n",
       "0                     Bharatx   5-10 Yrs  \n",
       "1                    Ericsson    5-9 Yrs  \n",
       "2                     Walmart    3-8 Yrs  \n",
       "3   Recruise India Consulting    7-9 Yrs  \n",
       "4           Global Pharma Tek    2-7 Yrs  \n",
       "..                        ...        ...  \n",
       "95       Response Informatics   5-12 Yrs  \n",
       "96       Coders Brain Pvt Ltd    3-5 Yrs  \n",
       "97       Techvaraha Solutions    2-6 Yrs  \n",
       "98       Response Informatics    4-7 Yrs  \n",
       "99                        IBM             \n",
       "\n",
       "[100 rows x 4 columns]"
      ]
     },
     "execution_count": 44,
     "metadata": {},
     "output_type": "execute_result"
    }
   ],
   "source": [
    "df"
   ]
  },
  {
   "cell_type": "code",
   "execution_count": null,
   "id": "b16da51f",
   "metadata": {},
   "outputs": [],
   "source": []
  }
 ],
 "metadata": {
  "kernelspec": {
   "display_name": "Python 3 (ipykernel)",
   "language": "python",
   "name": "python3"
  },
  "language_info": {
   "codemirror_mode": {
    "name": "ipython",
    "version": 3
   },
   "file_extension": ".py",
   "mimetype": "text/x-python",
   "name": "python",
   "nbconvert_exporter": "python",
   "pygments_lexer": "ipython3",
   "version": "3.11.7"
  }
 },
 "nbformat": 4,
 "nbformat_minor": 5
}
