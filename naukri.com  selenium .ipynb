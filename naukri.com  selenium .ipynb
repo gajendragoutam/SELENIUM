{
 "cells": [
  {
   "cell_type": "code",
   "execution_count": 1,
   "id": "779a5c92",
   "metadata": {},
   "outputs": [
    {
     "name": "stdout",
     "output_type": "stream",
     "text": [
      "Requirement already satisfied: selenium in c:\\users\\hp\\anaconda3\\lib\\site-packages (4.22.0)\n",
      "Requirement already satisfied: urllib3<3,>=1.26 in c:\\users\\hp\\anaconda3\\lib\\site-packages (from urllib3[socks]<3,>=1.26->selenium) (2.0.7)\n",
      "Requirement already satisfied: trio~=0.17 in c:\\users\\hp\\anaconda3\\lib\\site-packages (from selenium) (0.25.1)\n",
      "Requirement already satisfied: trio-websocket~=0.9 in c:\\users\\hp\\anaconda3\\lib\\site-packages (from selenium) (0.11.1)\n",
      "Requirement already satisfied: certifi>=2021.10.8 in c:\\users\\hp\\anaconda3\\lib\\site-packages (from selenium) (2024.2.2)\n",
      "Requirement already satisfied: typing_extensions>=4.9.0 in c:\\users\\hp\\anaconda3\\lib\\site-packages (from selenium) (4.9.0)\n",
      "Requirement already satisfied: websocket-client>=1.8.0 in c:\\users\\hp\\anaconda3\\lib\\site-packages (from selenium) (1.8.0)\n",
      "Requirement already satisfied: attrs>=23.2.0 in c:\\users\\hp\\anaconda3\\lib\\site-packages (from trio~=0.17->selenium) (23.2.0)\n",
      "Requirement already satisfied: sortedcontainers in c:\\users\\hp\\anaconda3\\lib\\site-packages (from trio~=0.17->selenium) (2.4.0)\n",
      "Requirement already satisfied: idna in c:\\users\\hp\\anaconda3\\lib\\site-packages (from trio~=0.17->selenium) (3.4)\n",
      "Requirement already satisfied: outcome in c:\\users\\hp\\anaconda3\\lib\\site-packages (from trio~=0.17->selenium) (1.3.0.post0)\n",
      "Requirement already satisfied: sniffio>=1.3.0 in c:\\users\\hp\\anaconda3\\lib\\site-packages (from trio~=0.17->selenium) (1.3.0)\n",
      "Requirement already satisfied: cffi>=1.14 in c:\\users\\hp\\anaconda3\\lib\\site-packages (from trio~=0.17->selenium) (1.16.0)\n",
      "Requirement already satisfied: wsproto>=0.14 in c:\\users\\hp\\anaconda3\\lib\\site-packages (from trio-websocket~=0.9->selenium) (1.2.0)\n",
      "Requirement already satisfied: pysocks!=1.5.7,<2.0,>=1.5.6 in c:\\users\\hp\\anaconda3\\lib\\site-packages (from urllib3[socks]<3,>=1.26->selenium) (1.7.1)\n",
      "Requirement already satisfied: pycparser in c:\\users\\hp\\anaconda3\\lib\\site-packages (from cffi>=1.14->trio~=0.17->selenium) (2.21)\n",
      "Requirement already satisfied: h11<1,>=0.9.0 in c:\\users\\hp\\anaconda3\\lib\\site-packages (from wsproto>=0.14->trio-websocket~=0.9->selenium) (0.14.0)\n"
     ]
    }
   ],
   "source": [
    "! pip install selenium\n"
   ]
  },
  {
   "cell_type": "code",
   "execution_count": 2,
   "id": "41ba6ae5",
   "metadata": {},
   "outputs": [],
   "source": [
    "from selenium.webdriver.common.by import By\n",
    "from selenium import webdriver\n",
    "import time\n",
    "import pandas as pd\n",
    "import warnings\n",
    "warnings.filterwarnings ('ignore')"
   ]
  },
  {
   "cell_type": "code",
   "execution_count": 3,
   "id": "bdc07494",
   "metadata": {},
   "outputs": [],
   "source": [
    "# Q1 "
   ]
  },
  {
   "cell_type": "code",
   "execution_count": 4,
   "id": "7c6bac34",
   "metadata": {},
   "outputs": [],
   "source": [
    "driver = webdriver.Chrome()\n",
    "driver.get(\"https://www.naukri.com/\")"
   ]
  },
  {
   "cell_type": "code",
   "execution_count": 5,
   "id": "691fd9e4",
   "metadata": {},
   "outputs": [],
   "source": [
    "disignation= driver.find_element(By.CLASS_NAME,\"suggestor-input \")\n",
    "disignation.send_keys(\"Data Scientist\")\n",
    "location = driver.find_element(By.XPATH,'/html/body/div[1]/div[7]/div/div/div[5]/div/div/div/div[1]/div/input')\n",
    "location.send_keys(\"Delhi/NCR\")\n",
    "search = driver.find_element(By.CLASS_NAME,'qsbSubmit')\n",
    "search.click()"
   ]
  },
  {
   "cell_type": "code",
   "execution_count": 6,
   "id": "5bad028b",
   "metadata": {},
   "outputs": [],
   "source": [
    "    job_titles=[]\n",
    "    job_locations=[]\n",
    "    company_names=[]\n",
    "    experience_requireds=[]\n",
    "    salary = []\n",
    "\n",
    "    title=driver.find_elements(By.XPATH,'//div[@class=\"cust-job-tuple layout-wrapper lay-2 sjw__tuple \"]/div/a')[:10]\n",
    "    for i in title:\n",
    "        job_titles.append(i.text)\n",
    "    \n",
    "    location_tags=driver.find_elements(By.XPATH,'//span[@class=\"locWdth\"]')[:10]\n",
    "    for i in location_tags:\n",
    "        location= i.text\n",
    "        job_locations.append(location)\n",
    "        \n",
    "    \n",
    "    company_tags = driver.find_elements(By.XPATH,'//div[@class=\" row2\"]/span/a[1]')[:10]\n",
    "    for i in company_tags:\n",
    "        company=i.text\n",
    "        company_names.append(company)\n",
    "        \n",
    "    experience_tags = driver.find_elements(By.XPATH,'//span[@class=\"expwdth\"]')[:10]\n",
    "    for i in experience_tags:\n",
    "        experience= i.text\n",
    "        experience_requireds.append(experience)\n",
    "        \n",
    "    salarys=driver.find_elements(By.XPATH,'//span[@class=\"ni-job-tuple-icon ni-job-tuple-icon-srp-rupee sal\"]')[:10]\n",
    "    for i in salarys:\n",
    "        salary.append(i.text)\n",
    "    \n",
    "        "
   ]
  },
  {
   "cell_type": "code",
   "execution_count": 7,
   "id": "ba7b9a64",
   "metadata": {},
   "outputs": [
    {
     "name": "stdout",
     "output_type": "stream",
     "text": [
      "0 0 0 0\n"
     ]
    },
    {
     "data": {
      "text/plain": [
       "(None, 0)"
      ]
     },
     "execution_count": 7,
     "metadata": {},
     "output_type": "execute_result"
    }
   ],
   "source": [
    "print(len(job_titles),len(job_locations),len(company_names),len(experience_requireds)),len(salary)"
   ]
  },
  {
   "cell_type": "code",
   "execution_count": 8,
   "id": "c76b65bf",
   "metadata": {},
   "outputs": [],
   "source": [
    "# Q 3"
   ]
  },
  {
   "cell_type": "code",
   "execution_count": 9,
   "id": "9260400a",
   "metadata": {},
   "outputs": [],
   "source": [
    "driver= webdriver.Chrome()\n",
    "driver.get('https://www.flipkart.com/apple-iphone-11-black-64-gb/product-reviews/itm4e5041ba101fd?pid=MOBFWQ6BXGJCEYNY&lid=LSTMOBFWQ6BXGJCEYNYZXSHRJ&marketplace=FLIPKART')"
   ]
  },
  {
   "cell_type": "code",
   "execution_count": 10,
   "id": "afcd7ab2",
   "metadata": {},
   "outputs": [],
   "source": [
    "Rating = []\n",
    "Review =[]"
   ]
  },
  {
   "cell_type": "code",
   "execution_count": 11,
   "id": "9115bd74",
   "metadata": {},
   "outputs": [],
   "source": [
    "start = 0\n",
    "end = 10\n",
    "for page in range(start,end):\n",
    "    rating_tag=driver.find_elements(By.XPATH,'//div[@class=\"XQDdHH Ga3i8K\"]')\n",
    "    for i in rating_tag:\n",
    "        ra=i.text\n",
    "        Rating.append(ra)\n",
    "\n",
    "    review_tag=driver.find_elements(By.XPATH,'//div[@class=\"ZmyHeo\"]')\n",
    "    for a in review_tag:\n",
    "        Review.append(a.text)"
   ]
  },
  {
   "cell_type": "code",
   "execution_count": 14,
   "id": "5640ac94",
   "metadata": {},
   "outputs": [
    {
     "name": "stdout",
     "output_type": "stream",
     "text": [
      "100 100\n"
     ]
    }
   ],
   "source": [
    "print( len(Rating),len(Review))"
   ]
  },
  {
   "cell_type": "code",
   "execution_count": 15,
   "id": "40f1eae2",
   "metadata": {},
   "outputs": [],
   "source": [
    "# Q 4"
   ]
  },
  {
   "cell_type": "code",
   "execution_count": 16,
   "id": "17587b98",
   "metadata": {},
   "outputs": [],
   "source": [
    "driver= webdriver.Chrome()\n",
    "driver.get('https://www.flipkart.com/search?q=sneakers&otracker=search&otracker1=search&marketplace=FLIPKART&as-show=on&as=off')"
   ]
  },
  {
   "cell_type": "code",
   "execution_count": 17,
   "id": "2aea20ee",
   "metadata": {},
   "outputs": [],
   "source": [
    "Brand=[]\n",
    "Product_Description=[]\n",
    "Price=[]"
   ]
  },
  {
   "cell_type": "code",
   "execution_count": 18,
   "id": "f5a1b49f",
   "metadata": {},
   "outputs": [],
   "source": [
    "\n",
    "    brand= driver.find_elements(By.XPATH,'//div[@class=\"syl9yP\"]')\n",
    "    for i in brand:\n",
    "        Brand.append(i.text)\n",
    "    pro_de= driver.find_elements(By.CLASS_NAME,\"WKTcLC\")\n",
    "    for i in pro_de:\n",
    "        Product_Description.append(i.text)\n",
    "    price= driver.find_elements(By.XPATH,'//div[@class=\"Nx9bqj\"]')\n",
    "    for i in price:\n",
    "        Price.append(i.text) \n",
    "    "
   ]
  },
  {
   "cell_type": "code",
   "execution_count": 19,
   "id": "665d7f94",
   "metadata": {},
   "outputs": [
    {
     "data": {
      "text/plain": [
       "(40, 40, 40)"
      ]
     },
     "execution_count": 19,
     "metadata": {},
     "output_type": "execute_result"
    }
   ],
   "source": [
    "len(  Product_Description),len(brand),len(price)"
   ]
  },
  {
   "cell_type": "code",
   "execution_count": null,
   "id": "b3193e67",
   "metadata": {},
   "outputs": [],
   "source": []
  },
  {
   "cell_type": "code",
   "execution_count": 20,
   "id": "eec90bb2",
   "metadata": {},
   "outputs": [],
   "source": [
    "# Q 5"
   ]
  },
  {
   "cell_type": "code",
   "execution_count": 21,
   "id": "847597b3",
   "metadata": {},
   "outputs": [],
   "source": [
    "driver = webdriver.Chrome()\n",
    "driver.get('https://www.amazon.in/')\n",
    "search= driver.find_element(By.XPATH,'/html/body/div[1]/header/div/div[1]/div[2]/div/form/div[2]/div[1]/input')\n",
    "search.send_keys('laptop Intel Core i7')\n",
    "fn = driver.find_element(By.XPATH,'/html/body/div[1]/header/div/div[1]/div[2]/div/form/div[3]/div/span/input')\n",
    "fn.click()"
   ]
  },
  {
   "cell_type": "code",
   "execution_count": 24,
   "id": "9c49a7eb",
   "metadata": {},
   "outputs": [],
   "source": [
    "Title=[]\n",
    "Ratings=[]\n",
    "Price=[]\n"
   ]
  },
  {
   "cell_type": "code",
   "execution_count": 25,
   "id": "3576c537",
   "metadata": {},
   "outputs": [],
   "source": [
    "title_tag=driver.find_elements(By.XPATH,'//h2/a/span')[:10]\n",
    "for i in title_tag:\n",
    "    Title.append(i.text)\n",
    "rating= driver.find_elements(By.XPATH,'//i[@class=\"a-icon a-icon-star-small a-star-small-3-5 aok-align-bottom\"]')\n",
    "for i in rating:\n",
    "    Ratings.append(i.text)\n",
    "    \n",
    "pri = driver.find_elements(By.XPATH,'//span[@class=\"a-price-whole\"]')[:10]\n",
    "for i in pri:\n",
    "    Price.append(i.text)"
   ]
  },
  {
   "cell_type": "code",
   "execution_count": 28,
   "id": "1cf7201d",
   "metadata": {},
   "outputs": [
    {
     "data": {
      "text/plain": [
       "(10, 11, 10)"
      ]
     },
     "execution_count": 28,
     "metadata": {},
     "output_type": "execute_result"
    }
   ],
   "source": [
    "len (Title), len(Ratings), len(Price)"
   ]
  },
  {
   "cell_type": "code",
   "execution_count": null,
   "id": "c2d83959",
   "metadata": {},
   "outputs": [],
   "source": []
  },
  {
   "cell_type": "code",
   "execution_count": 29,
   "id": "915724b7",
   "metadata": {},
   "outputs": [],
   "source": [
    "# Q 6"
   ]
  },
  {
   "cell_type": "code",
   "execution_count": 30,
   "id": "4ef9a107",
   "metadata": {},
   "outputs": [],
   "source": [
    "driver= webdriver.Chrome()\n",
    "driver.get('https://www.azquotes.com/top_quotes.html?p=2')"
   ]
  },
  {
   "cell_type": "code",
   "execution_count": 31,
   "id": "832c4825",
   "metadata": {},
   "outputs": [],
   "source": [
    "Top_quote=[]\n",
    "Obj_3=[]"
   ]
  },
  {
   "cell_type": "code",
   "execution_count": 32,
   "id": "bbec13f0",
   "metadata": {},
   "outputs": [],
   "source": [
    "t_q = driver.find_elements(By.XPATH,'//a[@class=\"title\"]')\n",
    "for i in t_q:\n",
    "    Top_quote.append(i.text)\n",
    "ob_3 = driver.find_elements(By.XPATH,'//div[@class=\"tags\"]/a') \n",
    "for i in ob_3:\n",
    "    Obj_3.append(i.text)\n",
    "    "
   ]
  },
  {
   "cell_type": "code",
   "execution_count": 33,
   "id": "f49e9621",
   "metadata": {},
   "outputs": [
    {
     "data": {
      "text/plain": [
       "(100, 300)"
      ]
     },
     "execution_count": 33,
     "metadata": {},
     "output_type": "execute_result"
    }
   ],
   "source": [
    "len(t_q),len(Obj_3)"
   ]
  }
 ],
 "metadata": {
  "kernelspec": {
   "display_name": "Python 3 (ipykernel)",
   "language": "python",
   "name": "python3"
  },
  "language_info": {
   "codemirror_mode": {
    "name": "ipython",
    "version": 3
   },
   "file_extension": ".py",
   "mimetype": "text/x-python",
   "name": "python",
   "nbconvert_exporter": "python",
   "pygments_lexer": "ipython3",
   "version": "3.11.7"
  }
 },
 "nbformat": 4,
 "nbformat_minor": 5
}
